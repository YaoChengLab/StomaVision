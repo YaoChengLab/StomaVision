{
 "cells": [
  {
   "attachments": {},
   "cell_type": "markdown",
   "metadata": {},
   "source": [
    "# Data Preperation\n",
    "This is a script that help to prepare your files for training, validation and testing. \n",
    "Your data folder should follow the structure below in order to be compatiable with this script. Please go to README for further details.\n",
    "\n",
    "## Input arguments\n",
    "- `dataset_path`: root path of your dataset. Be aware this is one layer above your dataset directory.\n",
    "- `dataset_name`: folder name or your dataset.\n",
    "- `seed_num`: this is a seed for random.seed()\n",
    "- `split_ratio`: this is the ratio between (train:val:test). \n",
    "\n",
    "> NOTE: you should fix your dataset when developing hyperparameters."
   ]
  },
  {
   "cell_type": "code",
   "execution_count": null,
   "metadata": {},
   "outputs": [],
   "source": [
    "# import detectron2\n",
    "import os, random\n",
    "\n",
    "# import helper functions\n",
    "# from detectron2.utils.visualizer import Visualizer\n",
    "# from detectron2.data import MetadataCatalog, DatasetCatalog\n",
    "import helper as h\n",
    "\n",
    "# Input Arguments\n",
    "dataset_path = \"/mnt/local/abrc/raw_dataset\"  # root directory of raw data\n",
    "output_dataset_path = \"/mnt/local/abrc/parsed_dataset\"  # root directory of parsed data\n",
    "dataset_name = \"StomaVision-multilabel\"  # name of the dataset\n",
    "seed_num = 28825252\n",
    "split_ratio = [8, 1, 1]  # The ratio stands for train:val:test\n",
    "\n",
    "# setting variables\n",
    "label_dicts = []\n",
    "for dir in os.listdir(dataset_path):\n",
    "    if os.path.isdir(os.path.join(dataset_path, dir)):\n",
    "        img_dir = os.path.join(dataset_path, dir)\n",
    "        label_filename = os.path.join(img_dir, f\"{dir}.json\")\n",
    "        # get annotations that is ready for detection training and drawing\n",
    "        label_dicts = h.get_detectron2_dicts_abrc(img_dir, label_filename, label_dicts, single_label=\"\")\n",
    "\n",
    "# shuffle, split and save datas and labels\n",
    "random.seed(seed_num)\n",
    "random.shuffle(label_dicts)\n",
    "label_cat = h.split_dataset(label_dicts, split_ratio)\n",
    "h.save_ext_dataset(dataset_name, output_dataset_path, label_cat)\n",
    "\n",
    "print(\"Data preperation complete......\")"
   ]
  }
 ],
 "metadata": {
  "kernelspec": {
   "display_name": "abrc",
   "language": "python",
   "name": "python3"
  },
  "language_info": {
   "codemirror_mode": {
    "name": "ipython",
    "version": 3
   },
   "file_extension": ".py",
   "mimetype": "text/x-python",
   "name": "python",
   "nbconvert_exporter": "python",
   "pygments_lexer": "ipython3",
   "version": "3.10.13"
  },
  "orig_nbformat": 4
 },
 "nbformat": 4,
 "nbformat_minor": 2
}
